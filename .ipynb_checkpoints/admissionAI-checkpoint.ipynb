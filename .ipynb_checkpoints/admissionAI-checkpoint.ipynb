{
 "cells": [
  {
   "cell_type": "code",
   "execution_count": 109,
   "id": "4317dd16",
   "metadata": {},
   "outputs": [],
   "source": [
    "import pandas as pd\n",
    "import numpy as np\n",
    "from sklearn.tree import DecisionTreeRegressor\n",
    "from sklearn.model_selection import train_test_split\n",
    "from sklearn.metrics import accuracy_score"
   ]
  },
  {
   "cell_type": "code",
   "execution_count": 110,
   "id": "ff4c509b",
   "metadata": {},
   "outputs": [],
   "source": [
    "data=pd.read_csv(\"data.csv\")"
   ]
  },
  {
   "cell_type": "code",
   "execution_count": 111,
   "id": "09d106a4",
   "metadata": {},
   "outputs": [
    {
     "name": "stderr",
     "output_type": "stream",
     "text": [
      "C:\\Users\\BENAIAH\\AppData\\Local\\Temp/ipykernel_4916/2877243499.py:3: FutureWarning: In a future version of pandas all arguments of DataFrame.drop except for the argument 'labels' will be keyword-only\n",
      "  X= np.array(data.drop([\"COA\"],1))\n"
     ]
    }
   ],
   "source": [
    "#feature selection\n",
    "data =data[[\"GRE Score\",\"TOEFL Score\",\"CGPA\",\"Research\",\"COA\"]]\n",
    "X= np.array(data.drop([\"COA\"],1))\n",
    "Y= np.array(data[\"COA\"])"
   ]
  },
  {
   "cell_type": "code",
   "execution_count": 112,
   "id": "d10a5174",
   "metadata": {},
   "outputs": [
    {
     "data": {
      "text/plain": [
       "DecisionTreeRegressor()"
      ]
     },
     "execution_count": 112,
     "metadata": {},
     "output_type": "execute_result"
    }
   ],
   "source": [
    "#Train model\n",
    "model=DecisionTreeRegressor()\n",
    "X_train,X_test,Y_train,Y_test=train_test_split(X,Y,test_size=0.2)\n",
    "model.fit(X_train,Y_train)"
   ]
  },
  {
   "cell_type": "code",
   "execution_count": 113,
   "id": "6c3ae6b0",
   "metadata": {},
   "outputs": [],
   "source": [
    "#Test Prediction\n",
    "prediction=model.predict(X_test)"
   ]
  },
  {
   "cell_type": "code",
   "execution_count": 114,
   "id": "486e918b",
   "metadata": {},
   "outputs": [
    {
     "name": "stdout",
     "output_type": "stream",
     "text": [
      "[0.97]\n"
     ]
    }
   ],
   "source": [
    "test=model.predict([[400,120,10,1]])\n",
    "print(test)"
   ]
  },
  {
   "cell_type": "code",
   "execution_count": 115,
   "id": "b8fd9f66",
   "metadata": {},
   "outputs": [
    {
     "name": "stdout",
     "output_type": "stream",
     "text": [
      "['Admitted']\n"
     ]
    }
   ],
   "source": [
    "\n",
    "#If Chance of Admit greater than 80% we classify it as 1:\"Admitted\" or 0:\"Not Admitted\"\n",
    "res = [\"Admitted\" if each > 0.8 else \"Not Admitted\" for each in test]\n",
    "print(res)"
   ]
  },
  {
   "cell_type": "code",
   "execution_count": null,
   "id": "8f9150bb",
   "metadata": {},
   "outputs": [],
   "source": []
  }
 ],
 "metadata": {
  "kernelspec": {
   "display_name": "Python 3 (ipykernel)",
   "language": "python",
   "name": "python3"
  },
  "language_info": {
   "codemirror_mode": {
    "name": "ipython",
    "version": 3
   },
   "file_extension": ".py",
   "mimetype": "text/x-python",
   "name": "python",
   "nbconvert_exporter": "python",
   "pygments_lexer": "ipython3",
   "version": "3.9.7"
  }
 },
 "nbformat": 4,
 "nbformat_minor": 5
}
