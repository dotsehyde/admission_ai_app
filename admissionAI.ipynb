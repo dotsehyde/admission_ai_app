{
 "cells": [
  {
   "cell_type": "code",
   "execution_count": 8,
   "id": "4317dd16",
   "metadata": {},
   "outputs": [],
   "source": [
    "import pandas as pd\n",
    "import numpy as np\n",
    "import pickle\n",
    "from sklearn.tree import DecisionTreeRegressor\n",
    "from sklearn.model_selection import train_test_split\n",
    "from sklearn.metrics import accuracy_score"
   ]
  },
  {
   "cell_type": "code",
   "execution_count": 9,
   "id": "ff4c509b",
   "metadata": {},
   "outputs": [],
   "source": [
    "data=pd.read_csv(\"data.csv\")"
   ]
  },
  {
   "cell_type": "code",
   "execution_count": 19,
   "id": "09d106a4",
   "metadata": {},
   "outputs": [],
   "source": [
    "#feature selection\n",
    "data =data[[\"GRE Score\",\"TOEFL Score\",\"CGPA\",\"Research\",\"COA\"]]\n",
    "x= np.array(data.drop([\"COA\"],axis=1))\n",
    "y= np.array(data[\"COA\"])"
   ]
  },
  {
   "cell_type": "code",
   "execution_count": 20,
   "id": "d10a5174",
   "metadata": {},
   "outputs": [
    {
     "data": {
      "text/plain": [
       "DecisionTreeRegressor()"
      ]
     },
     "execution_count": 20,
     "metadata": {},
     "output_type": "execute_result"
    }
   ],
   "source": [
    "#Train model\n",
    "model=DecisionTreeRegressor()\n",
    "x_train,x_test,y_train,y_test=train_test_split(x,y,test_size=0.2)\n",
    "model.fit(x_train,y_train)"
   ]
  },
  {
   "cell_type": "code",
   "execution_count": 21,
   "id": "6c3ae6b0",
   "metadata": {},
   "outputs": [],
   "source": [
    "#Test Prediction\n",
    "prediction=model.predict(x_test)"
   ]
  },
  {
   "cell_type": "code",
   "execution_count": 22,
   "id": "486e918b",
   "metadata": {},
   "outputs": [
    {
     "name": "stdout",
     "output_type": "stream",
     "text": [
      "[0.97]\n"
     ]
    }
   ],
   "source": [
    "test=model.predict([[400,120,10,1]])\n",
    "print(test)"
   ]
  },
  {
   "cell_type": "code",
   "execution_count": 24,
   "id": "8f9150bb",
   "metadata": {},
   "outputs": [],
   "source": [
    "filename='model.pkl'\n",
    "#Save model in file\n",
    "#wb write binary file\n",
    "pickle.dump(model,open(filename,'wb'))"
   ]
  },
  {
   "cell_type": "code",
   "execution_count": null,
   "id": "f71fa583",
   "metadata": {},
   "outputs": [],
   "source": []
  }
 ],
 "metadata": {
  "kernelspec": {
   "display_name": "Python 3 (ipykernel)",
   "language": "python",
   "name": "python3"
  },
  "language_info": {
   "codemirror_mode": {
    "name": "ipython",
    "version": 3
   },
   "file_extension": ".py",
   "mimetype": "text/x-python",
   "name": "python",
   "nbconvert_exporter": "python",
   "pygments_lexer": "ipython3",
   "version": "3.9.15"
  }
 },
 "nbformat": 4,
 "nbformat_minor": 5
}
